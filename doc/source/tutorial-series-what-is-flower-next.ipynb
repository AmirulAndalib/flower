{
 "cells": [
  {
   "cell_type": "markdown",
   "metadata": {},
   "source": [
    "# What is Flower Next?"
   ]
  },
  {
   "cell_type": "markdown",
   "metadata": {},
   "source": [
    "Welcome to the Flower federated learning tutorial!\n",
    "\n",
    "In this tutorial, you will learn the key concepts of Flower Next and how Flower Next helps you to easily build and run federated learning systems. Flower Next is our next generation framework that decouples the _infrastructure_ layer from the _application_ layer (more on that later). When you work through all parts of this tutorial, you will find that building an advanced federated learning system with Flower Next is greatly simplified by this decoupled concept.\n",
    "\n",
    "> [Star Flower on GitHub](https://github.com/adap/flower) ⭐️ and join the Flower community on Slack to connect, ask questions, and get help: [Join Slack](https://flower.ai/join-slack) 🌼 We'd love to hear from you in the `#introductions` channel! And if anything is unclear, head over to the `#questions` channel.\n",
    "\n",
    "Let's get started!"
   ]
  },
  {
   "cell_type": "markdown",
   "metadata": {
    "vscode": {
     "languageId": "plaintext"
    }
   },
   "source": [
    "## Definitions\n",
    "\n",
    "First, let's bridge our understanding from the previous tutorial and define the federated learning components in terms of Flower concepts.\n",
    "\n",
    "Federated learning relies on a system that relays messages between all involved applications during training. This system, known as the backbone, handles tasks like sending and receiving messages, syncing with federation nodes, and storing messages temporarily. But how do we ensure this backbone fits different situations? That's where SuperLink and SuperNode step in!\n",
    "\n",
    "## Infrastructure Layer\n",
    "\n",
    "[graphic-outlining-infrastructure-layer]\n",
    "\n",
    "### SuperLink\n",
    "The SuperLink relays messages between the [SuperNodes](#supernode) and the [ServerApp](#serverapp). Think of the SuperLink as a hub that receives messages (e.g. a model to be federated) from the ServerApp. SuperNodes pull messages from it and process them by running a [ClientApp](#clientapp). The SuperLink is always running in the background, ready to handle any communication needs.\n",
    "\n",
    "[graphic-outlining-supernode]\n",
    "\n",
    "### SuperNode\n",
    "Just like SuperLink, SuperNode is a constant presence. It works where the data is gathered, like on smartphones, IoT devices, or servers belonging to organizations. All connected SuperNodes check in with the SuperLink regularly. They pull messages[^1] from it, process them by launching a ClientApp, and then push the result back to the SuperLink.\n",
    "\n",
    "To make it easier to understand, think of SuperLink and SuperNodes like waiters in a restaurant. The waiter takes orders from customers and delivers their food. But at the same time, they're keeping an eye on all the tables, making sure everyone's needs are met. \n",
    "\n",
    "Together, SuperLink and SuperNodes make up the _infrastructure layer_ of a Flower federated learning system.\n",
    "\n",
    "## Application Layer\n",
    "\n",
    "[graphic-outlining-application-layer]\n",
    "\n",
    "On the _application layer_, we have the ServerApp and ClientApps. These are essentially applications or packaged code that runs, you guessed it, on the server and client, respectively.\n",
    "\n",
    "### ServerApp\n",
    "Now, let's focus on the [ServerApp][serverapp_link]. Remember from our previous tutorial that only a handful of connected nodes are involved in training? Well, the [ServerApp][serverapp_link] plays a crucial role in this. It's responsible for sampling SuperNodes that are connected to the `SuperLink`, pushing messages to the SuperLink and pulling messages from it. It would normally process messages that get pulled (e.g. when performing model aggregation). What's neat is that the [ServerApp][serverapp_link] is stateless between training sessions — it's triggered just once for a complete training cycle.\n",
    "\n",
    "### ClientApp\n",
    "Now, onto its counterpart, the [ClientApp][clientapp_link]. Similar to the [ServerApp][serverapp_link], it's all about transmitting, receiving, and processing messages via the SuperLink. Its job also includes executing the instructions embedded in the messages to perform computations like loading local datasets, setting up training loops, and training the model received from the [ServerApp][serverapp_link].\n",
    "\n",
    "Unlike the [ServerApp][serverapp_link], though, the [ClientApp][clientapp_link] is always running. The real benefit? The same [ClientApp][clientapp_link] can be used to run multiple projects _concurrently_, allowing you greater freedom for experimentation while developing a federated learning system for deployment.\n",
    "\n",
    "## Conclusion\n",
    "\n",
    "To wrap up, you've learnt the essential components of federated learning with Flower Next, divided neatly into infrastructure and application layers. At the infrastructure layer, we've the backbone: the SuperLink and SuperNode, ensuring smooth communication between nodes. On the application layer, we've seen the [ServerApp][serverapp_link] and [ClientApp][clientapp_link] in action, handling tasks on the server and client sides, respectively. The beauty of this setup lies in decoupling—data scientists and ML researchers can focus on building and using the apps without getting bogged down by infrastructure concerns. It's a win-win scenario, enabling smoother development experience and flexibility to experiment in federated learning systems.\n",
    "\n",
    "## Final remarks\n",
    "\n",
    "Congratulations! You now understand the key concepts of Flower Next. You have also learned how the pattern of decoupling the infrastructure and application layers is useful for building federated learning systems. There're more details in Flower Next, like [mods][builtinmods_link] (for augmenting [ClientApp][clientapp_link]s' capabilities) and [Message][message_link](a convenient Python dataclass for carrying the payload between ServerApp and ClientApp), but that was Flower Next in a nutshell.\n",
    "\n",
    "In the next part of this tutorial, we are going to build a first federated learning system with the Flower Next framework.\n",
    "\n",
    "[clientapp_link]: ref-api/flwr.client.ClientApp.rst\n",
    "[serverapp_link]: ref-api/flwr.server.ServerApp.rst\n",
    "[builtinmods_link]: how-to-use-built-in-mods.rst\n",
    "[message_link]: ref-api/flwr.common.Message.rst\n",
    "[^1]: Messages that were first pushed by a `ServerApp` to the SuperLink"
   ]
  },
  {
   "cell_type": "markdown",
   "metadata": {
    "vscode": {
     "languageId": "plaintext"
    }
   },
   "source": [
    "## Next steps\n",
    "\n",
    "Before you continue, make sure to join the Flower community on Slack: [Join Slack](https://flower.ai/join-slack/)\n",
    "\n",
    "There's a dedicated `#questions` channel if you need help, but we'd also love to hear who you are in `#introductions`!\n",
    "\n",
    "Make sure to also join the user forum on [Flower Discuss](https://discuss.flower.ai/)! There, you can interact with other members and access more extensive resources.\n",
    "\n",
    "The [Flower Federated Learning Tutorial - Part 1](https://flower.ai/docs/framework/tutorial-get-started-with-flower-pytorch.html) shows how to build a simple federated learning system with PyTorch and Flower."
   ]
  }
 ],
 "metadata": {
  "language_info": {
   "name": "python"
  }
 },
 "nbformat": 4,
 "nbformat_minor": 2
}
