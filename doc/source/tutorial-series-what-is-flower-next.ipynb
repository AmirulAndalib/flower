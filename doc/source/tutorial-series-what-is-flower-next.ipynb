{
 "cells": [
  {
   "cell_type": "markdown",
   "metadata": {},
   "source": [
    "# What is Flower Next?"
   ]
  },
  {
   "cell_type": "markdown",
   "metadata": {},
   "source": [
    "Welcome to the Flower federated learning tutorial!\n",
    "\n",
    "In this tutorial, you will learn the key concepts of Flower Next and how Flower Next helps you to easily build and run federated learning systems. Flower Next is our next generation framework that decouples the _infrastructure_ layer from the _application_ layer (more on that later). When you work through all parts of this tutorial, you will find that building an advanced federated learning system with Flower Next is greatly simplified by this decoupled concept.\n",
    "\n",
    "> [Star Flower on GitHub](https://github.com/adap/flower) ⭐️ and join the Flower community on Slack to connect, ask questions, and get help: [Join Slack](https://flower.ai/join-slack) 🌼 We'd love to hear from you in the `#introductions` channel! And if anything is unclear, head over to the `#questions` channel.\n",
    "\n",
    "Let's get started!"
   ]
  },
  {
   "cell_type": "markdown",
   "metadata": {
    "vscode": {
     "languageId": "plaintext"
    }
   },
   "source": [
    "## Definitions\n",
    "\n",
    "First, let's bridge our understanding from the previous tutorial and define the federated learning components in terms of Flower concepts.\n",
    "\n",
    "Federated learning relies on a system that relays messages between all involved applications during training. This system, known as the backbone, handles tasks like sending and receiving messages, syncing with federation nodes, and storing messages temporarily. But how do we ensure this backbone fits different situations? That's where `SuperLink` and `SuperNode` step in!\n",
    "\n",
    "[graphic-outlining-layers]\n",
    "\n",
    "## Infrastructure Layer\n",
    "### Introducing `SuperLink`\n",
    "The `SuperLink` handles all communication between applications. It's like the hub that receives the model and training instructions from the server, then passes them along to the training nodes. Think of it as a _link_ between the server and training nodes.\n",
    "\n",
    "Once the nodes finish their training, `SuperLink` gets their model updates and sends them back to the server for merging. And the best part? `SuperLink` is always there, running in the background, ready to handle any communication needs.\n",
    "\n",
    "But here's the catch: since `SuperLink` is always running, the training nodes need to check in with it regularly for any new messages. That's where the `SuperNode` comes into play.\n",
    "\n",
    "[graphic-outlining-supernode]\n",
    "\n",
    "### Meet `SuperNode`\n",
    "Just like `SuperLink`, `SuperNode` is a constant presence. It works where the data is gathered, like on smartphones, IoT devices, or servers belonging to organizations. Its job? Well, it's a bit like a [heartbeat](https://en.wikipedia.org/wiki/Heartbeat_(computing)) - it keeps things ticking along smoothly. All connected `SuperNode`s check in with the `SuperLink` regularly, passing on any messages and kicking off federated training on their nodes.\n",
    "\n",
    "To make it easier to understand, think of `SuperLink` and `SuperNode`s like waiters in a restaurant. The waiter takes orders from customers and delivers their food. But at the same time, they're keeping an eye on all the tables, making sure everyone's needs are met. \n",
    "\n",
    "Together, `SuperLink` and `SuperNode`s make up the _infrastructure layer_ of a Flower federated learning system.\n",
    "\n",
    "[graphic-outlining-apps]\n",
    "\n",
    "## Application Layer\n",
    "On the _application layer_, we have the `ServerApp` and [`ClientApp`][clientapp_link]s. These are essentially applications or packaged code that runs, you guessed it, on the server and client, respectively.\n",
    "\n",
    "### `ServerApp`\n",
    "Now, let's focus on the `ServerApp`. Remember from our previous tutorial that only a handful of connected nodes are involved in training? Well, the `ServerApp` plays a crucial role in this. It's responsible for sampling `SuperNode`s, transmitting, receiving, and processing messages, all via the trusty `SuperLink`. What's neat is that the `ServerApp` is stateless between training sessions — it's triggered just once for a complete training cycle.\n",
    "\n",
    "### `ClientApp`\n",
    "Now, onto its counterpart, the `ClientApp`. Similar to the `ServerApp`, it's all about transmitting, receiving, and processing messages via the `SuperLink`. Its job also includes executing the instructions embedded in the messages to perform computations like loading local datasets, setting up training loops, and training the model received from the `ServerApp`.\n",
    "\n",
    "Unlike the `ServerApp`, though, the `ClientApp` is always running. The real benefit? The same `ClientApp` can be used to run multiple projects _concurrently_, allowing you greater freedom for experimentation while developing a federated learning system for deployment.\n",
    "\n",
    "## Conclusion\n",
    "\n",
    "To wrap up, you've learnt the essential components of federated learning with Flower Next, divided neatly into infrastructure and application layers. At the infrastructure layer, we've the backbone: the `SuperLink` and `SuperNode`, ensuring smooth communication between nodes. On the application layer, we've seen the `ServerApp` and `ClientApp` in action, handling tasks on the server and client sides, respectively. The beauty of this setup lies in decoupling—data scientists and ML researchers can focus on building and using the apps without getting bogged down by infrastructure concerns. It's a win-win scenario, enabling smoother development experience and flexibility to experiment in federated learning systems.\n",
    "\n",
    "## Final remarks\n",
    "\n",
    "Congratulations! You now understand the key concepts of Flower Next. You have also learned how the pattern of decoupling the infrastructure and application layers is useful for building federated learning systems. There're more details in Flower Next, like [mods][builtinmods_link] (for augmenting `ClientApp`s' capabilities) and [Message][message_link](a convenient Python dataclass for carrying the payload between ServerApp and ClientApp), but that was Flower Next in a nutshell. In the next part of this tutorial, we are going to build a first federated learning system with the Flower Next framework.\n",
    "\n",
    "[clientapp_link]: ref-api/flwr.client.ClientApp.html\n",
    "[serverapp_link]: ref-api/flwr.server.ServerApp.html\n",
    "[builtinmods_link]: how-to-use-built-in-mods.rst\n",
    "[message_link]: ref-api/flwr.common.Message.html"
   ]
  },
  {
   "cell_type": "markdown",
   "metadata": {
    "vscode": {
     "languageId": "plaintext"
    }
   },
   "source": [
    "## Next steps\n",
    "\n",
    "Before you continue, make sure to join the Flower community on Slack: [Join Slack](https://flower.ai/join-slack/)\n",
    "\n",
    "There's a dedicated `#questions` channel if you need help, but we'd also love to hear who you are in `#introductions`!\n",
    "\n",
    "The [Flower Federated Learning Tutorial - Part 1](https://flower.ai/docs/framework/tutorial-get-started-with-flower-pytorch.html) shows how to build a simple federated learning system with PyTorch and Flower."
   ]
  },
  {
   "cell_type": "code",
   "execution_count": null,
   "metadata": {
    "vscode": {
     "languageId": "plaintext"
    }
   },
   "outputs": [],
   "source": []
  }
 ],
 "metadata": {
  "language_info": {
   "name": "python"
  }
 },
 "nbformat": 4,
 "nbformat_minor": 2
}
