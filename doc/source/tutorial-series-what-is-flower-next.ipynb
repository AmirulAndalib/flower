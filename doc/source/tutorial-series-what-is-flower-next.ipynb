{
 "cells": [
  {
   "cell_type": "markdown",
   "metadata": {},
   "source": [
    "# What is Flower Next?"
   ]
  },
  {
   "cell_type": "markdown",
   "metadata": {},
   "source": [
    "Welcome to the Flower federated learning tutorial!"
   ]
  },
  {
   "cell_type": "markdown",
   "metadata": {},
   "source": [
    "In this tutorial, you will learn the key concepts of Flower Next and how Flower Next helps you to easily build and run federated learning systems. Flower Next is our next generation framework that decouples _infrastructure_ and _application_ (more on that later). When you work through all parts of this tutorial, you will find that building an advanced federated learning system with Flower Next is greatly simplified by this decoupled approach.\n",
    "\n",
    "> [Star Flower on GitHub](https://github.com/adap/flower) ⭐️ and join the Flower community on Slack to connect, ask questions, and get help: [Join Slack](https://flower.ai/join-slack) 🌼 We'd love to hear from you in the `#introductions` channel! And if anything is unclear, head over to the `#questions` channel.\n",
    "\n",
    "Let's get started!"
   ]
  },
  {
   "cell_type": "markdown",
   "metadata": {
    "vscode": {
     "languageId": "plaintext"
    }
   },
   "source": [
    "# Definitions\n",
    "\n",
    "First, let's bridge our understanding from the previous tutorial and define the federated learning components in the language of Flower.\n",
    "1. Client\n",
    "2. Server \n",
    "3. SuperLink\n",
    "4. SuperNode\n",
    "5. "
   ]
  },
  {
   "cell_type": "markdown",
   "metadata": {},
   "source": [
    "# Infrastructure and Application Layers\n",
    "\n",
    "[graphic-outlining-layers]\n",
    "\n",
    "Highlight benefits of decoupling:\n",
    "* Developer- and deployment-friendly. Users only need to focus on building apps.\n",
    "* Ease of simulation. Native integration with Flower Datasets.\n",
    "* Reusable components."
   ]
  },
  {
   "cell_type": "markdown",
   "metadata": {},
   "source": [
    "## Infrastructure Layer - `SuperLink` and `SuperNode`\n",
    "\n",
    "Before implementing FL, the infrastructure layer needs to be set up first. This allows … . With Flower Next, we have build a flower-superlink that makes this process easy and intuitive."
   ]
  },
  {
   "cell_type": "markdown",
   "metadata": {},
   "source": [
    "## Application Layer - `ServerApp` and `ClientApp`"
   ]
  },
  {
   "cell_type": "markdown",
   "metadata": {},
   "source": []
  }
 ],
 "metadata": {
  "language_info": {
   "name": "python"
  }
 },
 "nbformat": 4,
 "nbformat_minor": 2
}
