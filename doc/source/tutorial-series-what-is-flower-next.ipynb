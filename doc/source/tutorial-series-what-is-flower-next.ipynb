{
 "cells": [
  {
   "cell_type": "markdown",
   "metadata": {},
   "source": [
    "# What is Flower Next?"
   ]
  },
  {
   "cell_type": "markdown",
   "metadata": {},
   "source": [
    "Welcome to the Flower federated learning tutorial!\n",
    "\n",
    "In this tutorial, you will learn the key concepts of Flower Next and how Flower Next helps you to easily build and run federated learning systems. \n",
    "\n",
    "Flower Next is our next generation framework that decouples the [_infrastructure layer_](#infrastructure-layer) from the [_application layer_](#application-layer) (more on these later). When you work through all parts of this tutorial, you will find that building an advanced federated learning system with Flower Next is greatly simplified by this decoupled concept.\n",
    "\n",
    "> [Star Flower on GitHub](https://github.com/adap/flower) ⭐️ and join the open-source Flower community on Slack to connect, ask questions, and get help: [Join Slack](https://flower.ai/join-slack) 🌼 We'd love to hear from you in the `#introductions` channel! And if anything is unclear, head over to the `#questions` channel.\n",
    "\n",
    "Let's get started!"
   ]
  },
  {
   "cell_type": "markdown",
   "metadata": {
    "vscode": {
     "languageId": "plaintext"
    }
   },
   "source": [
    "## Definitions\n",
    "\n",
    "First, let's bridge our understanding from the previous tutorial and define the federated learning components in terms of Flower concepts.\n",
    "\n",
    "### Infrastructure Layer\n",
    "[graphic-outlining-infrastructure-layer]\n",
    "\n",
    "Federated learning relies on a system that relays messages between all involved applications during training. This backbone system handles tasks like sending and receiving messages, syncing with federation nodes, and storing messages temporarily. But how do we ensure this backbone fits different situations? That's where SuperLink and SuperNode step in! We call these the _infrastructure layer_.\n",
    "\n",
    "#### SuperLink\n",
    "The _SuperLink_ relays messages in a Flower federated learning system. It's like a hub that receives the model and training instructions from the server, then passes them along to the training nodes.\n",
    "\n",
    "More concretely, the SuperLink relays messages between the _SuperNodes_ and the _ServerApp_. Let's give an example for a federated learning workflow: a SuperLink receives a model to be federated in a message from the ServerApp. Selected SuperNodes then pull that message from the SuperLink and respectively process their messages by running their ClientApps. In this case, the SuperNodes launch their ClientApps to train a model each on their local data. Once trainings are complete, the ClientApps return their models to the SuperNodes, which in turn relay messages via the SuperLink back to the ServerApp for aggregation.\n",
    "\n",
    "(Don't worry about the definitions of the ServerApp, ClientApp, and Message for now. We will explain them [below](#application-layer).)\n",
    "\n",
    "As the main relay hub, the SuperLink is always running in the background, ready to handle any communication needs. \n",
    "\n",
    "#### SuperNode\n",
    "Just like SuperLink, the _SuperNode_ continuously runs in the background as a lightweight service. It runs where the data is gathered, like on smartphones, IoT devices, or servers belonging to organizations. All connected SuperNodes check in with the SuperLink regularly. They pull messages (that were first pushed by a ServerApp) from the SuperLink, process the messages by launching a ClientApp, and then push the results back to the SuperLink.\n",
    "\n",
    "As a simple analogy, imagine SuperLink as the main internet router. It gets data packets from a central server and sends them to connected devices. Each SuperNode acts like a device, talking to SuperLink for data, processing it, and sending back results.\n",
    "\n",
    "Together, SuperLink and SuperNodes make up the _infrastructure layer_ of a Flower federated learning system.\n",
    "\n",
    "### Application Layer\n",
    "[graphic-outlining-application-layer]\n",
    "\n",
    "On the _application layer_, we have the ServerApp and ClientApp. These are essentially applications or packaged code that runs, you guessed it, on the server and client, respectively.\n",
    "\n",
    "#### ServerApp\n",
    "Let's start with the [_ServerApp_][serverapp_link]. Remember from our previous tutorial that only a handful of connected nodes are involved in training? The ServerApp plays a crucial role in this. It's responsible for sampling SuperNodes that are connected to the SuperLink, pushing messages to the SuperLink and pulling messages from it. It would normally process messages that get pulled (e.g. when performing model aggregation). What's neat is that the ServerApp is ephemeral — it's triggered just once for a complete training cycle.\n",
    "\n",
    "#### ClientApp\n",
    "Now, onto its counterpart, the [_ClientApp_][clientapp_link]. Like the ServerApp, the ClientApp is ephemeral - it is spun up on-demand by the SuperNode to process a message (sent by the ServerApp). When the ClientApp is launched, it receives a message from the SuperNode, executes the instructions in the message, returns results back to the SuperNode, and finally terminates. \n",
    "\n",
    "<div class=\"alert alert-info\">\n",
    "\n",
    "Note\n",
    "\n",
    "In the coming weeks, we will introduce the concept of multi-app support. This means that multiple ClientApps can be connected to a single SuperNode. This allows multiple users of the same federation to execute different tasks on the same SuperNode, bringing greater freedom for building and using task-specific apps, all while using the same infrastructure! \n",
    "\n",
    "</div>\n",
    "\n",
    "### Others\n",
    "#### Messages\n",
    "[_Message_][message_link]s is a Python dataclass that Flower uses to carry information between ServerApp and ClientApp. This information can be a model the ServerApp wants to federate, metrics the ClientApp is pushing back to the ServerApp via the SuperLink, and anything in between. The design of Messages and how they are handled by Flower ensures that a Message sent by the ServerApp looks exactly the same when received by the ClientApp (and vice versa). This ensures a more unified and smoother developer experience for you!\n",
    "\n",
    "#### Context\n",
    "[_Context_][context_link] is another useful Python dataclass that we introduced in Flower Next. At a high level, it carries the record and messages for a specific execution of `ServerApp`, i.e. a run. Each time a SuperNode runs a ClientApp in the same run, the same Context object is exposed to the ClientApp, allowing the ClientApp to persist throughout the duration of the run.\n",
    "\n",
    "## Conclusion\n",
    "To wrap up, you've learnt the essential components of federated learning with Flower Next, divided neatly into infrastructure and application layers.\n",
    "\n",
    "At the infrastructure layer, we've the backbone: the SuperLink and SuperNode, ensuring standardized and persistent communication between nodes. On the application layer, we've seen the ServerApp and ClientApp in action, handling tasks on the server and client sides, respectively. The benefit of this setup lies in decoupling—data scientists and ML researchers can focus on building and using the apps while making use of pre-existing infrastructure. Under the hood, Messages and Context standardize the mechanisms of relaying and persisting information between ServerApp and ClientApps. It's a win-win scenario, enabling smoother development experience and flexibility to experiment with federated learning systems.\n",
    "\n",
    "## Final remarks\n",
    "Congratulations! You now understand the key concepts of Flower Next. You have also learned how the pattern of decoupling the infrastructure and application layers is useful for building federated learning systems. There're more details in Flower Next, like [mods][builtinmods_link] (for augmenting ClientApps' capabilities), but that was Flower Next in a nutshell.\n",
    "\n",
    "In the next part of this tutorial, we are going to build a first federated learning system with the Flower Next framework.\n",
    "\n",
    "[clientapp_link]: ref-api/flwr.client.ClientApp.rst\n",
    "[serverapp_link]: ref-api/flwr.server.ServerApp.rst\n",
    "[builtinmods_link]: how-to-use-built-in-mods.rst\n",
    "[message_link]: ref-api/flwr.common.Message.rst\n",
    "[context_link]: ref-api/flwr.common.Context.rst"
   ]
  },
  {
   "cell_type": "markdown",
   "metadata": {
    "vscode": {
     "languageId": "plaintext"
    }
   },
   "source": [
    "## Next steps\n",
    "\n",
    "Before you continue, make sure to join the Flower community on Slack: [Join Slack](https://flower.ai/join-slack/)\n",
    "\n",
    "There's a dedicated `#questions` channel if you need help, but we'd also love to hear who you are in `#introductions`!\n",
    "\n",
    "Make sure to also join the user forum on [Flower Discuss](https://discuss.flower.ai/)! There, you can interact with other members and access more extensive resources.\n",
    "\n",
    "The [Flower Federated Learning Tutorial - Part 1](https://flower.ai/docs/framework/tutorial-get-started-with-flower-pytorch.html) shows how to build a simple federated learning system with PyTorch and Flower."
   ]
  }
 ],
 "metadata": {
  "language_info": {
   "name": "python"
  }
 },
 "nbformat": 4,
 "nbformat_minor": 2
}
