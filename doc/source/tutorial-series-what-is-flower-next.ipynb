{
 "cells": [
  {
   "cell_type": "markdown",
   "metadata": {},
   "source": [
    "# What is Flower Next?"
   ]
  },
  {
   "cell_type": "markdown",
   "metadata": {},
   "source": [
    "Welcome to the Flower federated learning tutorial!\n",
    "\n",
    "In this tutorial, you will learn the key concepts of Flower Next and how Flower Next helps you to easily build and run federated learning systems. Flower Next is our next generation framework that decouples the _infrastructure_ layer from the _application_ layer (more on that later). When you work through all parts of this tutorial, you will find that building an advanced federated learning system with Flower Next is greatly simplified by this decoupled concept.\n",
    "\n",
    "> [Star Flower on GitHub](https://github.com/adap/flower) ⭐️ and join the Flower community on Slack to connect, ask questions, and get help: [Join Slack](https://flower.ai/join-slack) 🌼 We'd love to hear from you in the `#introductions` channel! And if anything is unclear, head over to the `#questions` channel.\n",
    "\n",
    "Let's get started!"
   ]
  },
  {
   "cell_type": "markdown",
   "metadata": {
    "vscode": {
     "languageId": "plaintext"
    }
   },
   "source": [
    "## Definitions\n",
    "\n",
    "First, let's bridge our understanding from the previous tutorial and define the federated learning components in terms of Flower concepts.\n",
    "\n",
    "Federated learning relies on a system that relays messages between all involved applications during training. This system, known as the backbone, handles tasks like sending and receiving messages, syncing with federation nodes, and storing messages temporarily. But how do we ensure this backbone fits different situations? That's where `SuperLink` steps in!\n",
    "\n",
    "### Introducing `SuperLink`\n",
    "The `SuperLink` handles all communication between applications. It's like the hub that receives the model and training instructions from the server, then passes them along to the training nodes. Once the nodes finish their training, `SuperLink` gets their model updates and sends them back to the server for merging. And the best part? `SuperLink` is always there, running in the background, ready to handle any communication needs.\n",
    "\n",
    "But here's the catch: since `SuperLink` is always running, the training nodes need to check in with it regularly for any new messages. That's where the `SuperNode` comes into play.\n",
    "\n",
    "### Meet `SuperNode`\n",
    "Just like `SuperLink`, `SuperNode` is a constant presence. It works where the data is gathered, like on smartphones, IoT devices, or servers belonging to organizations. Its job? Well, it's a bit like a [heartbeat](https://en.wikipedia.org/wiki/Heartbeat_(computing)) - it keeps things ticking along smoothly. `SuperNode` checks in with `SuperLink` regularly, passing on any messages and kicking off federated training on the node.\n",
    "\n",
    "To make it easier to understand, think of `SuperLink` and `SuperNode` like waiters in a restaurant. The waiter takes orders from customers and delivers their food. But at the same time, they're keeping an eye on all the tables, making sure everyone's needs are met. \n",
    "\n",
    "Together, `SuperLink` and `SuperNode` makes up the _infrastructure layer_ of a Flower federated learning system.\n",
    "\n",
    "### `ServerApp`, `ClientApp`\n",
    "\n",
    "In the near future, we are adding support for multiple `ClientApp`s to connect to a single `SuperNode`. \n",
    "\n",
    "## Final remarks\n",
    "\n",
    "Congratulations! You now understand the key concepts of Flower Next. You have also learned how the pattern of decoupling the infrastructure and application layers can be used to build federated learning systems. There are more details in it, like how to use mods to apply client- and server-side differential privacy. In the next part of this tutorial, we are going to build a first federated learning systemn with Flower."
   ]
  },
  {
   "cell_type": "markdown",
   "metadata": {},
   "source": [
    "# Infrastructure and Application Layers\n",
    "\n",
    "[graphic-outlining-layers]\n",
    "\n",
    "Highlight benefits of decoupling:\n",
    "* Developer- and deployment-friendly. Users only need to focus on building apps.\n",
    "* Ease of simulation. Native integration with Flower Datasets.\n",
    "* Reusable components."
   ]
  },
  {
   "cell_type": "markdown",
   "metadata": {},
   "source": [
    "## Application Layer - `ServerApp` and `ClientApp`"
   ]
  },
  {
   "cell_type": "markdown",
   "metadata": {},
   "source": []
  }
 ],
 "metadata": {
  "language_info": {
   "name": "python"
  }
 },
 "nbformat": 4,
 "nbformat_minor": 2
}
